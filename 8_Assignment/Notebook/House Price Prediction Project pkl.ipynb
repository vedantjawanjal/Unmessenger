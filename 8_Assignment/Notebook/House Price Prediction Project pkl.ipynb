{
 "cells": [
  {
   "cell_type": "code",
   "execution_count": 30,
   "id": "4c697457",
   "metadata": {},
   "outputs": [],
   "source": [
    "# Importing basic libraries \n",
    "\n",
    "import numpy as np\n",
    "import pandas as pd\n",
    "\n",
    "# Importing viusalization libraries\n",
    "\n",
    "import matplotlib.pyplot as plt\n",
    "%matplotlib inline\n",
    "import seaborn as sns\n",
    "\n",
    "# splitting the data\n",
    "\n",
    "from sklearn.model_selection import train_test_split,RandomizedSearchCV\n",
    "from sklearn.preprocessing import StandardScaler\n",
    "\n",
    "# Importing the models\n",
    "from sklearn.ensemble import GradientBoostingRegressor\n",
    "\n",
    "\n",
    "# Importing the metrics\n",
    "from sklearn.metrics import mean_squared_error,mean_absolute_error,r2_score\n",
    "\n",
    "# Importing pickle file\n",
    "import pickle\n",
    "\n",
    "import warnings\n",
    "\n",
    "# Filter out a specific warning by category\n",
    "warnings.filterwarnings(\"ignore\", category=DeprecationWarning)"
   ]
  },
  {
   "cell_type": "code",
   "execution_count": 2,
   "id": "178c4940",
   "metadata": {},
   "outputs": [
    {
     "data": {
      "text/html": [
       "<div>\n",
       "<style scoped>\n",
       "    .dataframe tbody tr th:only-of-type {\n",
       "        vertical-align: middle;\n",
       "    }\n",
       "\n",
       "    .dataframe tbody tr th {\n",
       "        vertical-align: top;\n",
       "    }\n",
       "\n",
       "    .dataframe thead th {\n",
       "        text-align: right;\n",
       "    }\n",
       "</style>\n",
       "<table border=\"1\" class=\"dataframe\">\n",
       "  <thead>\n",
       "    <tr style=\"text-align: right;\">\n",
       "      <th></th>\n",
       "      <th>date</th>\n",
       "      <th>price</th>\n",
       "      <th>bedrooms</th>\n",
       "      <th>bathrooms</th>\n",
       "      <th>sqft_living</th>\n",
       "      <th>sqft_lot</th>\n",
       "      <th>floors</th>\n",
       "      <th>waterfront</th>\n",
       "      <th>view</th>\n",
       "      <th>condition</th>\n",
       "      <th>sqft_above</th>\n",
       "      <th>sqft_basement</th>\n",
       "      <th>yr_built</th>\n",
       "      <th>yr_renovated</th>\n",
       "      <th>street</th>\n",
       "      <th>city</th>\n",
       "      <th>statezip</th>\n",
       "      <th>country</th>\n",
       "    </tr>\n",
       "  </thead>\n",
       "  <tbody>\n",
       "    <tr>\n",
       "      <th>0</th>\n",
       "      <td>02-05-2014 00:00</td>\n",
       "      <td>313000.0</td>\n",
       "      <td>3</td>\n",
       "      <td>1.50</td>\n",
       "      <td>1340</td>\n",
       "      <td>7912</td>\n",
       "      <td>1.5</td>\n",
       "      <td>0</td>\n",
       "      <td>0</td>\n",
       "      <td>3</td>\n",
       "      <td>1340</td>\n",
       "      <td>0</td>\n",
       "      <td>1955</td>\n",
       "      <td>2005</td>\n",
       "      <td>18810 Densmore Ave N</td>\n",
       "      <td>Shoreline</td>\n",
       "      <td>WA 98133</td>\n",
       "      <td>USA</td>\n",
       "    </tr>\n",
       "    <tr>\n",
       "      <th>1</th>\n",
       "      <td>02-05-2014 00:00</td>\n",
       "      <td>2384000.0</td>\n",
       "      <td>5</td>\n",
       "      <td>2.50</td>\n",
       "      <td>3650</td>\n",
       "      <td>9050</td>\n",
       "      <td>2.0</td>\n",
       "      <td>0</td>\n",
       "      <td>4</td>\n",
       "      <td>5</td>\n",
       "      <td>3370</td>\n",
       "      <td>280</td>\n",
       "      <td>1921</td>\n",
       "      <td>0</td>\n",
       "      <td>709 W Blaine St</td>\n",
       "      <td>Seattle</td>\n",
       "      <td>WA 98119</td>\n",
       "      <td>USA</td>\n",
       "    </tr>\n",
       "    <tr>\n",
       "      <th>2</th>\n",
       "      <td>02-05-2014 00:00</td>\n",
       "      <td>342000.0</td>\n",
       "      <td>3</td>\n",
       "      <td>2.00</td>\n",
       "      <td>1930</td>\n",
       "      <td>11947</td>\n",
       "      <td>1.0</td>\n",
       "      <td>0</td>\n",
       "      <td>0</td>\n",
       "      <td>4</td>\n",
       "      <td>1930</td>\n",
       "      <td>0</td>\n",
       "      <td>1966</td>\n",
       "      <td>0</td>\n",
       "      <td>26206-26214 143rd Ave SE</td>\n",
       "      <td>Kent</td>\n",
       "      <td>WA 98042</td>\n",
       "      <td>USA</td>\n",
       "    </tr>\n",
       "    <tr>\n",
       "      <th>3</th>\n",
       "      <td>02-05-2014 00:00</td>\n",
       "      <td>420000.0</td>\n",
       "      <td>3</td>\n",
       "      <td>2.25</td>\n",
       "      <td>2000</td>\n",
       "      <td>8030</td>\n",
       "      <td>1.0</td>\n",
       "      <td>0</td>\n",
       "      <td>0</td>\n",
       "      <td>4</td>\n",
       "      <td>1000</td>\n",
       "      <td>1000</td>\n",
       "      <td>1963</td>\n",
       "      <td>0</td>\n",
       "      <td>857 170th Pl NE</td>\n",
       "      <td>Bellevue</td>\n",
       "      <td>WA 98008</td>\n",
       "      <td>USA</td>\n",
       "    </tr>\n",
       "  </tbody>\n",
       "</table>\n",
       "</div>"
      ],
      "text/plain": [
       "               date      price  bedrooms  bathrooms  sqft_living  sqft_lot  \\\n",
       "0  02-05-2014 00:00   313000.0         3       1.50         1340      7912   \n",
       "1  02-05-2014 00:00  2384000.0         5       2.50         3650      9050   \n",
       "2  02-05-2014 00:00   342000.0         3       2.00         1930     11947   \n",
       "3  02-05-2014 00:00   420000.0         3       2.25         2000      8030   \n",
       "\n",
       "   floors  waterfront  view  condition  sqft_above  sqft_basement  yr_built  \\\n",
       "0     1.5           0     0          3        1340              0      1955   \n",
       "1     2.0           0     4          5        3370            280      1921   \n",
       "2     1.0           0     0          4        1930              0      1966   \n",
       "3     1.0           0     0          4        1000           1000      1963   \n",
       "\n",
       "   yr_renovated                    street       city  statezip country  \n",
       "0          2005      18810 Densmore Ave N  Shoreline  WA 98133     USA  \n",
       "1             0           709 W Blaine St    Seattle  WA 98119     USA  \n",
       "2             0  26206-26214 143rd Ave SE       Kent  WA 98042     USA  \n",
       "3             0           857 170th Pl NE   Bellevue  WA 98008     USA  "
      ]
     },
     "execution_count": 2,
     "metadata": {},
     "output_type": "execute_result"
    }
   ],
   "source": [
    "# Importing dataset\n",
    "\n",
    "df = pd.read_csv('../HousePricePredictiondataset.csv')\n",
    "df.head(4)"
   ]
  },
  {
   "cell_type": "code",
   "execution_count": 3,
   "id": "a7acf9a8",
   "metadata": {},
   "outputs": [
    {
     "data": {
      "text/plain": [
       "(4600, 18)"
      ]
     },
     "execution_count": 3,
     "metadata": {},
     "output_type": "execute_result"
    }
   ],
   "source": [
    "# Checking the shape of dataset\n",
    "\n",
    "df.shape"
   ]
  },
  {
   "cell_type": "code",
   "execution_count": 4,
   "id": "628a6f37",
   "metadata": {
    "scrolled": false
   },
   "outputs": [
    {
     "name": "stdout",
     "output_type": "stream",
     "text": [
      "<class 'pandas.core.frame.DataFrame'>\n",
      "RangeIndex: 4600 entries, 0 to 4599\n",
      "Data columns (total 18 columns):\n",
      " #   Column         Non-Null Count  Dtype  \n",
      "---  ------         --------------  -----  \n",
      " 0   date           4600 non-null   object \n",
      " 1   price          4600 non-null   float64\n",
      " 2   bedrooms       4600 non-null   int64  \n",
      " 3   bathrooms      4600 non-null   float64\n",
      " 4   sqft_living    4600 non-null   int64  \n",
      " 5   sqft_lot       4600 non-null   int64  \n",
      " 6   floors         4600 non-null   float64\n",
      " 7   waterfront     4600 non-null   int64  \n",
      " 8   view           4600 non-null   int64  \n",
      " 9   condition      4600 non-null   int64  \n",
      " 10  sqft_above     4600 non-null   int64  \n",
      " 11  sqft_basement  4600 non-null   int64  \n",
      " 12  yr_built       4600 non-null   int64  \n",
      " 13  yr_renovated   4600 non-null   int64  \n",
      " 14  street         4600 non-null   object \n",
      " 15  city           4600 non-null   object \n",
      " 16  statezip       4600 non-null   object \n",
      " 17  country        4600 non-null   object \n",
      "dtypes: float64(3), int64(10), object(5)\n",
      "memory usage: 647.0+ KB\n"
     ]
    }
   ],
   "source": [
    "# Looking at the datatypes\n",
    "\n",
    "df.info()"
   ]
  },
  {
   "cell_type": "code",
   "execution_count": 5,
   "id": "6e65e665",
   "metadata": {},
   "outputs": [
    {
     "data": {
      "text/plain": [
       "date             0\n",
       "price            0\n",
       "bedrooms         0\n",
       "bathrooms        0\n",
       "sqft_living      0\n",
       "sqft_lot         0\n",
       "floors           0\n",
       "waterfront       0\n",
       "view             0\n",
       "condition        0\n",
       "sqft_above       0\n",
       "sqft_basement    0\n",
       "yr_built         0\n",
       "yr_renovated     0\n",
       "street           0\n",
       "city             0\n",
       "statezip         0\n",
       "country          0\n",
       "dtype: int64"
      ]
     },
     "execution_count": 5,
     "metadata": {},
     "output_type": "execute_result"
    }
   ],
   "source": [
    "# Checking for NUll values in the dataset\n",
    "\n",
    "df.isnull().sum()"
   ]
  },
  {
   "cell_type": "code",
   "execution_count": 6,
   "id": "aead7b9a",
   "metadata": {},
   "outputs": [
    {
     "data": {
      "text/plain": [
       "0"
      ]
     },
     "execution_count": 6,
     "metadata": {},
     "output_type": "execute_result"
    }
   ],
   "source": [
    "# Checking for duplicate values in the data\n",
    "\n",
    "df.duplicated().sum()"
   ]
  },
  {
   "cell_type": "code",
   "execution_count": 7,
   "id": "bb2d26b6",
   "metadata": {},
   "outputs": [
    {
     "data": {
      "text/plain": [
       "date               70\n",
       "price            1741\n",
       "bedrooms           10\n",
       "bathrooms          26\n",
       "sqft_living       566\n",
       "sqft_lot         3113\n",
       "floors              6\n",
       "waterfront          2\n",
       "view                5\n",
       "condition           5\n",
       "sqft_above        511\n",
       "sqft_basement     207\n",
       "yr_built          115\n",
       "yr_renovated       60\n",
       "street           4525\n",
       "city               44\n",
       "statezip           77\n",
       "country             1\n",
       "dtype: int64"
      ]
     },
     "execution_count": 7,
     "metadata": {},
     "output_type": "execute_result"
    }
   ],
   "source": [
    "# Number of unique values in all columns\n",
    "\n",
    "df.nunique()"
   ]
  },
  {
   "cell_type": "code",
   "execution_count": 8,
   "id": "40382ec7",
   "metadata": {},
   "outputs": [],
   "source": [
    "# Deleting unwanted columns in model building\n",
    "\n",
    "del df[\"street\"]\n",
    "del df[\"city\"]\n",
    "del df[\"country\"]\n",
    "del df[\"date\"]  "
   ]
  },
  {
   "cell_type": "code",
   "execution_count": 9,
   "id": "50c2e1a2",
   "metadata": {},
   "outputs": [],
   "source": [
    "# Preparing the Statezip column data into more useful data\n",
    "\n",
    "lis = []\n",
    "for i in df[\"statezip\"]:\n",
    "    lis.append(i[2:])\n",
    "    \n",
    "arr = np.array(lis,dtype=np.int64)\n",
    "df[\"statezip\"] = arr"
   ]
  },
  {
   "cell_type": "code",
   "execution_count": 10,
   "id": "1dca5deb",
   "metadata": {},
   "outputs": [],
   "source": [
    "df.drop(np.where(df[\"price\"]==0)[0],axis=0,inplace=True)"
   ]
  },
  {
   "cell_type": "code",
   "execution_count": 11,
   "id": "2aa817ef",
   "metadata": {},
   "outputs": [
    {
     "name": "stdout",
     "output_type": "stream",
     "text": [
      "Before transformation skew :  1.7188875411513491\n",
      "After transformation skew :  -0.05370929015223324\n"
     ]
    }
   ],
   "source": [
    "# Removing skewness from data\n",
    "\n",
    "print(\"Before transformation skew : \",df[\"sqft_living\"].skew())\n",
    "df[\"sqft_living\"] = np.log(df[\"sqft_living\"])\n",
    "print(\"After transformation skew : \",df[\"sqft_living\"].skew())"
   ]
  },
  {
   "cell_type": "code",
   "execution_count": 12,
   "id": "4c8accf0",
   "metadata": {},
   "outputs": [
    {
     "name": "stdout",
     "output_type": "stream",
     "text": [
      "Before transformation skew :  1.6550756371892148\n",
      "After transformation skew :  0.5650940779006431\n"
     ]
    }
   ],
   "source": [
    "# Removing the skeness from data\n",
    "\n",
    "print(\"Before transformation skew : \",df[\"sqft_basement\"].skew())\n",
    "df[\"sqft_basement\"] = np.cbrt(df[\"sqft_basement\"])\n",
    "print(\"After transformation skew : \",df[\"sqft_basement\"].skew())"
   ]
  },
  {
   "cell_type": "code",
   "execution_count": 13,
   "id": "bac73b69",
   "metadata": {},
   "outputs": [
    {
     "name": "stdout",
     "output_type": "stream",
     "text": [
      "Before transformation skew :  11.329014386009023\n",
      "After transformation skew :  0.8412624258021195\n"
     ]
    }
   ],
   "source": [
    "# Removing the skewness from data\n",
    "\n",
    "print(\"Before transformation skew : \",df[\"sqft_lot\"].skew())\n",
    "df[\"sqft_lot\"] = np.log(df[\"sqft_lot\"])\n",
    "print(\"After transformation skew : \",df[\"sqft_lot\"].skew())"
   ]
  },
  {
   "cell_type": "code",
   "execution_count": 14,
   "id": "b479ef48",
   "metadata": {},
   "outputs": [
    {
     "name": "stdout",
     "output_type": "stream",
     "text": [
      "Before transformation skew :  1.4539329178421054\n",
      "After transformation skew :  0.23924533231027634\n"
     ]
    }
   ],
   "source": [
    "# Removing the skewness from data\n",
    "\n",
    "print(\"Before transformation skew : \",df[\"sqft_above\"].skew())\n",
    "df[\"sqft_above\"] = np.log(df[\"sqft_above\"])\n",
    "print(\"After transformation skew : \",df[\"sqft_above\"].skew())"
   ]
  },
  {
   "cell_type": "code",
   "execution_count": 15,
   "id": "37dd7e63",
   "metadata": {},
   "outputs": [
    {
     "name": "stdout",
     "output_type": "stream",
     "text": [
      "Before transformation skew :  25.02381726204781\n",
      "After transformation skew :  0.32998138379856273\n"
     ]
    }
   ],
   "source": [
    "print(\"Before transformation skew : \",df[\"price\"].skew())\n",
    "df[\"price\"] = np.log(df[\"price\"])\n",
    "print(\"After transformation skew : \",df[\"price\"].skew())"
   ]
  },
  {
   "cell_type": "code",
   "execution_count": 16,
   "id": "eab22549",
   "metadata": {},
   "outputs": [
    {
     "name": "stdout",
     "output_type": "stream",
     "text": [
      "Before transformation skew :  3.3733978634952058\n",
      "After transformation skew :  2.7925334595507962\n"
     ]
    }
   ],
   "source": [
    "# Removing the skewness\n",
    "\n",
    "print(\"Before transformation skew : \",df[\"view\"].skew())\n",
    "df[\"view\"] = np.cbrt(df[\"view\"])\n",
    "print(\"After transformation skew : \",df[\"view\"].skew())"
   ]
  },
  {
   "cell_type": "code",
   "execution_count": 17,
   "id": "c3a901fc",
   "metadata": {},
   "outputs": [],
   "source": [
    "# Delting the highest correlated column with sqft_living(0.86 corr)\n",
    "\n",
    "del df[\"sqft_above\"]"
   ]
  },
  {
   "cell_type": "code",
   "execution_count": 18,
   "id": "639e24f0",
   "metadata": {},
   "outputs": [
    {
     "name": "stdout",
     "output_type": "stream",
     "text": [
      "Shape of x :  (4551, 12)\n",
      "Shape of y :  (4551,)\n"
     ]
    }
   ],
   "source": [
    "# Splitting the data in target and Features\n",
    "\n",
    "X = df.drop(\"price\",axis=1,inplace=False)\n",
    "Y = df.loc[:,\"price\"]\n",
    "\n",
    "print(\"Shape of x : \",X.shape)\n",
    "print(\"Shape of y : \",Y.shape)"
   ]
  },
  {
   "cell_type": "code",
   "execution_count": 19,
   "id": "d65a2919",
   "metadata": {},
   "outputs": [],
   "source": [
    "# scalling the data\n",
    "\n",
    "scaler = StandardScaler()\n",
    "Xscaled = scaler.fit_transform(X)"
   ]
  },
  {
   "cell_type": "code",
   "execution_count": 20,
   "id": "22475ef7",
   "metadata": {},
   "outputs": [],
   "source": [
    "# Splitting the data in training and testing\n",
    "\n",
    "Xtrain,Xtest,Ytrain,Ytest = train_test_split(Xscaled,Y,test_size=0.2,random_state=42)"
   ]
  },
  {
   "cell_type": "code",
   "execution_count": 21,
   "id": "6e5f9cdb",
   "metadata": {},
   "outputs": [
    {
     "data": {
      "text/plain": [
       "GradientBoostingRegressor(random_state=42)"
      ]
     },
     "execution_count": 21,
     "metadata": {},
     "output_type": "execute_result"
    }
   ],
   "source": [
    "# Building the model\n",
    "\n",
    "gradient = GradientBoostingRegressor(random_state=42)\n",
    "gradient.fit(Xtrain,Ytrain)"
   ]
  },
  {
   "cell_type": "code",
   "execution_count": 22,
   "id": "928c1a17",
   "metadata": {},
   "outputs": [],
   "source": [
    "Ypred = gradient.predict(Xtest)"
   ]
  },
  {
   "cell_type": "code",
   "execution_count": 23,
   "id": "aa49e2b3",
   "metadata": {},
   "outputs": [
    {
     "name": "stdout",
     "output_type": "stream",
     "text": [
      "mse :  0.09481253901538607\n",
      "rmse :  0.30791644810790164\n",
      "mae :  0.21513970326733928\n",
      "train r2score :  0.7817068398857432\n",
      "test r2score :  0.6763250485979948\n"
     ]
    }
   ],
   "source": [
    "# Calculating the metrics\n",
    "\n",
    "print(\"mse : \",mean_squared_error(Ytest,Ypred))\n",
    "print(\"rmse : \",np.sqrt(mean_squared_error(Ytest,Ypred)))\n",
    "print(\"mae : \",mean_absolute_error(Ytest,Ypred))\n",
    "print(\"train r2score : \",r2_score(Ytrain,gradient.predict(Xtrain)))\n",
    "print(\"test r2score : \",r2_score(Ytest,Ypred))"
   ]
  },
  {
   "cell_type": "code",
   "execution_count": 24,
   "id": "956ff5a9",
   "metadata": {},
   "outputs": [],
   "source": [
    "# Setting hyperparameters\n",
    "\n",
    "parameter = {\n",
    "                \"learning_rate\":[0.05,0.08,0.1,0.04],\n",
    "                \"n_estimators\":[100,200,300,400],\n",
    "                \"min_samples_split\":[4,6,8,9,11],\n",
    "                \"min_samples_leaf\":[3,5,7,9],\n",
    "                \"max_depth\":[5,7,9,11]\n",
    "}"
   ]
  },
  {
   "cell_type": "code",
   "execution_count": 25,
   "id": "07510e6f",
   "metadata": {},
   "outputs": [
    {
     "name": "stdout",
     "output_type": "stream",
     "text": [
      "{'n_estimators': 300, 'min_samples_split': 8, 'min_samples_leaf': 3, 'max_depth': 5, 'learning_rate': 0.08}\n",
      "0.755163817721155\n"
     ]
    }
   ],
   "source": [
    "# Hyperparameter tuning\n",
    "\n",
    "gradient = GradientBoostingRegressor()\n",
    "random = RandomizedSearchCV(gradient,parameter,cv=5,random_state=42)\n",
    "random.fit(Xtrain,Ytrain)\n",
    "best_parameters = random.best_params_\n",
    "best_score = random.best_score_\n",
    "print(best_parameters)\n",
    "print(best_score)"
   ]
  },
  {
   "cell_type": "code",
   "execution_count": 26,
   "id": "9f329e53",
   "metadata": {},
   "outputs": [
    {
     "name": "stdout",
     "output_type": "stream",
     "text": [
      "mse :  0.0747733149863314\n",
      "rmse :  0.2734470972351533\n",
      "mae :  0.17726771679331563\n",
      "test r2score :  0.7447357770849262\n"
     ]
    }
   ],
   "source": [
    "Ypred = random.predict(Xtest)\n",
    "print(\"mse : \",mean_squared_error(Ytest,Ypred))\n",
    "print(\"rmse : \",np.sqrt(mean_squared_error(Ytest,Ypred)))\n",
    "print(\"mae : \",mean_absolute_error(Ytest,Ypred))\n",
    "print(\"test r2score : \",r2_score(Ytest,Ypred))"
   ]
  },
  {
   "cell_type": "code",
   "execution_count": 31,
   "id": "367aa4a3",
   "metadata": {},
   "outputs": [],
   "source": [
    "# Creating a pickle file, and dumping the model\n",
    "\n",
    "pickle.dump(scaler,open(\"G:\\STUDY MATERIAL\\THEORY\\Internship\\Assignment - 8\\House price prediction\\Model\\scaler.pkl\",\"wb\"))\n",
    "pickle.dump(random, open(\"G:\\\\STUDY MATERIAL\\\\THEORY\\\\Internship\\\\Assignment - 8\\\\House price prediction\\\\Model\\\\random.pkl\", \"wb\"))\n"
   ]
  },
  {
   "cell_type": "code",
   "execution_count": 33,
   "id": "f0aa65ab",
   "metadata": {},
   "outputs": [
    {
     "data": {
      "text/plain": [
       "Index(['bedrooms', 'bathrooms', 'sqft_living', 'sqft_lot', 'floors',\n",
       "       'waterfront', 'view', 'condition', 'sqft_basement', 'yr_built',\n",
       "       'yr_renovated', 'statezip'],\n",
       "      dtype='object')"
      ]
     },
     "execution_count": 33,
     "metadata": {},
     "output_type": "execute_result"
    }
   ],
   "source": [
    "X.columns"
   ]
  },
  {
   "cell_type": "code",
   "execution_count": null,
   "id": "354a9930",
   "metadata": {},
   "outputs": [],
   "source": []
  }
 ],
 "metadata": {
  "kernelspec": {
   "display_name": "Python 3 (ipykernel)",
   "language": "python",
   "name": "python3"
  },
  "language_info": {
   "codemirror_mode": {
    "name": "ipython",
    "version": 3
   },
   "file_extension": ".py",
   "mimetype": "text/x-python",
   "name": "python",
   "nbconvert_exporter": "python",
   "pygments_lexer": "ipython3",
   "version": "3.9.13"
  }
 },
 "nbformat": 4,
 "nbformat_minor": 5
}
